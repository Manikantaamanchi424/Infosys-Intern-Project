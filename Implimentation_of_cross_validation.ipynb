{
  "nbformat": 4,
  "nbformat_minor": 0,
  "metadata": {
    "colab": {
      "provenance": [],
      "include_colab_link": true
    },
    "kernelspec": {
      "name": "python3",
      "display_name": "Python 3"
    },
    "language_info": {
      "name": "python"
    }
  },
  "cells": [
    {
      "cell_type": "markdown",
      "metadata": {
        "id": "view-in-github",
        "colab_type": "text"
      },
      "source": [
        "<a href=\"https://colab.research.google.com/github/Manikantaamanchi424/Infosys-Intern-Project/blob/main/Implimentation_of_cross_validation.ipynb\" target=\"_parent\"><img src=\"https://colab.research.google.com/assets/colab-badge.svg\" alt=\"Open In Colab\"/></a>"
      ]
    },
    {
      "cell_type": "markdown",
      "source": [
        "### Implementation of Cross-Validation & Hyperparameter Tuning"
      ],
      "metadata": {
        "id": "VdGPNHmt2PRE"
      }
    },
    {
      "cell_type": "code",
      "execution_count": null,
      "metadata": {
        "id": "Y14cSUx52Jgy"
      },
      "outputs": [],
      "source": [
        "# Import necessary libraries\n",
        "import pandas as pd\n",
        "import numpy as np\n",
        "from sklearn.model_selection import cross_val_score\n",
        "from sklearn.ensemble import RandomForestClassifier\n",
        "from sklearn.linear_model import LogisticRegression\n",
        "from xgboost import XGBRegressor\n",
        "from sklearn.linear_model import LinearRegression"
      ]
    },
    {
      "cell_type": "code",
      "source": [
        "# Load the dataset\n",
        "data = pd.read_csv('/content/preprocessed_earthquake_data.csv')\n",
        "\n",
        "# Define the features and target\n",
        "target = 'Status_Reviewed'\n",
        "categorical_cols = ['Type', 'Magnitude Type', 'Source', 'Status']\n",
        "\n",
        "X = data.drop(columns=[target] + categorical_cols)\n",
        "y = data[target]\n"
      ],
      "metadata": {
        "id": "OBesGCdi52-Y"
      },
      "execution_count": null,
      "outputs": []
    },
    {
      "cell_type": "code",
      "source": [
        "# Define model\n",
        "models = {\n",
        "    'RandomForest': RandomForestClassifier(random_state=42),\n",
        "    'LogisticRegression': LogisticRegression(random_state=42)\n",
        "}"
      ],
      "metadata": {
        "id": "DYyTmXUy6MRo"
      },
      "execution_count": null,
      "outputs": []
    },
    {
      "cell_type": "code",
      "source": [
        "for name, model in models.items():\n",
        "    print(f\"\\nCross-validation for {name}:\")\n",
        "    scores = cross_val_score(model, X, y, cv=10, scoring='accuracy')\n",
        "    print(f\"Accuracy Scores for each fold: {scores}\")\n",
        "    print(f\"Mean Accuracy: {np.mean(scores):.4f}\")\n",
        "    print(f\"Accuracy Variance: {np.var(scores):.6f}\")\n"
      ],
      "metadata": {
        "colab": {
          "base_uri": "https://localhost:8080/"
        },
        "id": "XZtblaXG6bfr",
        "outputId": "dcfd86ab-cbd1-408b-b23a-09c2f6e8d672"
      },
      "execution_count": null,
      "outputs": [
        {
          "output_type": "stream",
          "name": "stdout",
          "text": [
            "\n",
            "Cross-validation for RandomForest:\n",
            "Accuracy Scores for each fold: [0.9987185  1.         1.         1.         1.         1.\n",
            " 1.         1.         1.         0.97350427]\n",
            "Mean Accuracy: 0.9972\n",
            "Accuracy Variance: 0.000063\n",
            "\n",
            "Cross-validation for LogisticRegression:\n",
            "Accuracy Scores for each fold: [0.99700982 1.         1.         1.         1.         1.\n",
            " 1.         1.         1.         0.97521368]\n",
            "Mean Accuracy: 0.9972\n",
            "Accuracy Variance: 0.000055\n"
          ]
        }
      ]
    },
    {
      "cell_type": "code",
      "source": [
        "# Hyperparameter Tuning and Model Selection\n",
        "\n",
        "from sklearn.model_selection import GridSearchCV\n",
        "\n",
        "# Parameter grid for Random Forest\n",
        "param_grid_rf = {\n",
        "    'n_estimators': [50, 100, 200],\n",
        "    'max_depth': [None, 10, 20],\n",
        "    'min_samples_split': [2, 5]\n",
        "}\n",
        "\n",
        "# Parameter grid for Logistic Regression\n",
        "param_grid_lr = {\n",
        "    'C': [0.01, 0.1, 1, 10],\n",
        "    'penalty': ['l1', 'l2'],\n",
        "    'solver': ['liblinear']  # solver supporting l1 penalty\n",
        "}\n",
        "\n",
        "# GridSearchCV for each model with stratified 5-fold CV\n",
        "grid_searches = {\n",
        "    'RandomForest': GridSearchCV(RandomForestClassifier(random_state=42), param_grid_rf, cv=5, scoring='accuracy'),\n",
        "    'LogisticRegression': GridSearchCV(LogisticRegression(max_iter=500, random_state=42), param_grid_lr, cv=5, scoring='accuracy')\n",
        "}\n",
        "\n",
        "# Fit grid search and find best params and scores\n",
        "for name, gs in grid_searches.items():\n",
        "    gs.fit(X, y)\n",
        "    print(f\"\\nBest parameters for {name}: {gs.best_params_}\")\n",
        "    print(f\"Best cross-validation accuracy for {name}: {gs.best_score_:.4f}\")\n"
      ],
      "metadata": {
        "colab": {
          "base_uri": "https://localhost:8080/"
        },
        "id": "717UNIuB6vdU",
        "outputId": "84c3ad89-7ea5-437d-8fbc-774dbdce9ba5"
      },
      "execution_count": null,
      "outputs": [
        {
          "output_type": "stream",
          "name": "stdout",
          "text": [
            "\n",
            "Best parameters for RandomForest: {'max_depth': None, 'min_samples_split': 2, 'n_estimators': 50}\n",
            "Best cross-validation accuracy for RandomForest: 0.9974\n",
            "\n",
            "Best parameters for LogisticRegression: {'C': 0.1, 'penalty': 'l1', 'solver': 'liblinear'}\n",
            "Best cross-validation accuracy for LogisticRegression: 0.9976\n"
          ]
        }
      ]
    },
    {
      "cell_type": "code",
      "source": [
        "## XGBRegressor vs Linear Regression\n",
        "\n",
        "# Import libraries\n",
        "import pandas as pd\n",
        "import numpy as np\n",
        "from sklearn.model_selection import train_test_split, cross_val_score\n",
        "from sklearn.metrics import mean_absolute_error, mean_squared_error, r2_score\n",
        "from sklearn.linear_model import LinearRegression\n",
        "from xgboost import XGBRegressor\n",
        "\n",
        "\n",
        "\n",
        "# Define features and target\n",
        "target = 'Status_Reviewed'  # Ensure numeric for regression\n",
        "categorical_cols = ['Type', 'Magnitude Type', 'Source', 'Status']\n",
        "X = data.drop(columns=[target] + categorical_cols)\n",
        "y = data[target]\n",
        "\n",
        "# Split dataset into train and test\n",
        "X_train, X_test, y_train, y_test = train_test_split(X, y, test_size=0.2, random_state=42)\n",
        "\n",
        "# Define models\n",
        "models = {\n",
        "    'XGBRegressor': XGBRegressor(random_state=42),\n",
        "    'LinearRegression': LinearRegression()\n",
        "}\n",
        "\n",
        "# Train models and evaluate\n",
        "for name, model in models.items():\n",
        "    model.fit(X_train, y_train)\n",
        "    y_pred = model.predict(X_test)\n",
        "\n",
        "    mae = mean_absolute_error(y_test, y_pred)\n",
        "    mse = mean_squared_error(y_test, y_pred)\n",
        "    r2 = r2_score(y_test, y_pred)\n",
        "\n",
        "    print(f\"\\n{name} Evaluation:\")\n",
        "    print(f\"MAE: {mae:.4f}\")\n",
        "    print(f\"MSE: {mse:.4f}\")\n",
        "    print(f\"R² Score: {r2:.4f}\")\n",
        "\n",
        "# Optional: cross-validation R²\n",
        "from sklearn.model_selection import cross_val_score\n",
        "for name, model in models.items():\n",
        "    scores = cross_val_score(model, X, y, cv=10, scoring='r2')\n",
        "    print(f\"\\n{name} 10-fold CV R²: {scores}\")\n",
        "    print(f\"Mean R²: {np.mean(scores):.4f}, Variance: {np.var(scores):.6f}\")\n"
      ],
      "metadata": {
        "id": "DwcTvJGF9wE_",
        "outputId": "0c22bfaa-0e25-44a5-b98e-798b3d33a15a",
        "colab": {
          "base_uri": "https://localhost:8080/"
        }
      },
      "execution_count": null,
      "outputs": [
        {
          "output_type": "stream",
          "name": "stdout",
          "text": [
            "\n",
            "XGBRegressor Evaluation:\n",
            "MAE: 0.0000\n",
            "MSE: 0.0000\n",
            "R² Score: 1.0000\n",
            "\n",
            "LinearRegression Evaluation:\n",
            "MAE: 0.0003\n",
            "MSE: 0.0000\n",
            "R² Score: 1.0000\n",
            "\n",
            "XGBRegressor 10-fold CV R²: [ 0.02811017 -8.47108451  0.99999996  0.99999977  0.99999999  0.99999999\n",
            "  0.99999865  0.99999989  0.99999987  0.        ]\n",
            "Mean R²: -0.1443, Variance: 7.855184\n",
            "\n",
            "LinearRegression 10-fold CV R²: [0.899571   0.99999807 0.99999406 0.99998323 0.99999177 0.99998634\n",
            " 0.99589354 0.95998074 0.97207986 0.        ]\n",
            "Mean R²: 0.8827, Variance: 0.087500\n"
          ]
        }
      ]
    }
  ]
}